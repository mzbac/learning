{
 "cells": [
  {
   "cell_type": "code",
   "execution_count": 1,
   "metadata": {
    "collapsed": true
   },
   "outputs": [],
   "source": [
    "## Set up data"
   ]
  },
  {
   "cell_type": "code",
   "execution_count": 1,
   "metadata": {
    "collapsed": false
   },
   "outputs": [
    {
     "name": "stderr",
     "output_type": "stream",
     "text": [
      "Using gpu device 0: Tesla K80 (CNMeM is disabled, cuDNN 5103)\n",
      "/home/ubuntu/anaconda2/lib/python2.7/site-packages/theano/sandbox/cuda/__init__.py:600: UserWarning: Your cuDNN version is more recent than the one Theano officially supports. If you see any problems, try updating Theano or downgrading cuDNN to version 5.\n",
      "  warnings.warn(warn)\n",
      "Using Theano backend.\n"
     ]
    }
   ],
   "source": [
    "from theano.sandbox import cuda\n",
    "cuda.use('gpu')\n",
    "\n",
    "%matplotlib inline\n",
    "import utils; reload(utils)\n",
    "import math\n",
    "import six\n",
    "from sklearn.preprocessing import normalize\n",
    "from utils import *\n",
    "from __future__ import division, print_function"
   ]
  },
  {
   "cell_type": "code",
   "execution_count": 2,
   "metadata": {
    "collapsed": true
   },
   "outputs": [],
   "source": [
    "path = \"data/\"\n",
    "batch_size=64"
   ]
  },
  {
   "cell_type": "code",
   "execution_count": 3,
   "metadata": {
    "collapsed": true
   },
   "outputs": [],
   "source": [
    "_trainData = pd.read_csv(path+'train.csv').values"
   ]
  },
  {
   "cell_type": "code",
   "execution_count": 4,
   "metadata": {
    "collapsed": false
   },
   "outputs": [
    {
     "name": "stdout",
     "output_type": "stream",
     "text": [
      "(42000, 785)\n"
     ]
    }
   ],
   "source": [
    "print(_trainData.shape)"
   ]
  },
  {
   "cell_type": "code",
   "execution_count": 5,
   "metadata": {
    "collapsed": true
   },
   "outputs": [],
   "source": [
    "trainData = _trainData\n",
    "labelData = _trainData[:,0]"
   ]
  },
  {
   "cell_type": "code",
   "execution_count": 6,
   "metadata": {
    "collapsed": false
   },
   "outputs": [
    {
     "name": "stdout",
     "output_type": "stream",
     "text": [
      "(42000, 785)\n",
      "(42000,)\n"
     ]
    }
   ],
   "source": [
    "print(trainData.shape)\n",
    "print(labelData.shape)"
   ]
  },
  {
   "cell_type": "code",
   "execution_count": 7,
   "metadata": {
    "collapsed": true
   },
   "outputs": [],
   "source": [
    "trainData = np.delete(trainData,0,axis=1)"
   ]
  },
  {
   "cell_type": "code",
   "execution_count": 9,
   "metadata": {
    "collapsed": false
   },
   "outputs": [
    {
     "name": "stdout",
     "output_type": "stream",
     "text": [
      "(42000, 784)\n"
     ]
    }
   ],
   "source": [
    "print(trainData.shape)"
   ]
  },
  {
   "cell_type": "code",
   "execution_count": 8,
   "metadata": {
    "collapsed": false
   },
   "outputs": [],
   "source": [
    "def reshapeTrainData(trainData):\n",
    "    x =[]\n",
    "    for data in trainData:\n",
    "        x.append(np.reshape(data, (28, 28)))\n",
    "    return np.array(x)"
   ]
  },
  {
   "cell_type": "code",
   "execution_count": 9,
   "metadata": {
    "collapsed": false
   },
   "outputs": [],
   "source": [
    "trainData = reshapeTrainData(trainData)"
   ]
  },
  {
   "cell_type": "code",
   "execution_count": 12,
   "metadata": {
    "collapsed": false
   },
   "outputs": [
    {
     "name": "stdout",
     "output_type": "stream",
     "text": [
      "(42000, 28, 28)\n"
     ]
    }
   ],
   "source": [
    "print(trainData.shape)"
   ]
  },
  {
   "cell_type": "code",
   "execution_count": 10,
   "metadata": {
    "collapsed": true
   },
   "outputs": [],
   "source": [
    "X_train = np.expand_dims(trainData,1)"
   ]
  },
  {
   "cell_type": "code",
   "execution_count": 14,
   "metadata": {
    "collapsed": false
   },
   "outputs": [
    {
     "name": "stdout",
     "output_type": "stream",
     "text": [
      "(42000, 1, 28, 28)\n"
     ]
    }
   ],
   "source": [
    "print(X_train.shape)"
   ]
  },
  {
   "cell_type": "code",
   "execution_count": 11,
   "metadata": {
    "collapsed": true
   },
   "outputs": [],
   "source": [
    "y_train = onehot(labelData)"
   ]
  },
  {
   "cell_type": "code",
   "execution_count": 16,
   "metadata": {
    "collapsed": false
   },
   "outputs": [
    {
     "name": "stdout",
     "output_type": "stream",
     "text": [
      "(42000, 10)\n"
     ]
    }
   ],
   "source": [
    "print(y_train.shape)"
   ]
  },
  {
   "cell_type": "code",
   "execution_count": 12,
   "metadata": {
    "collapsed": true
   },
   "outputs": [],
   "source": [
    "_X_train = X_train;\n",
    "\n",
    "X_train = _X_train[0:41900,:,:,:]\n",
    "val_train = _X_train[41900:42001,:,:,:]"
   ]
  },
  {
   "cell_type": "code",
   "execution_count": 18,
   "metadata": {
    "collapsed": false
   },
   "outputs": [
    {
     "name": "stdout",
     "output_type": "stream",
     "text": [
      "(41900, 1, 28, 28)\n",
      "(100, 1, 28, 28)\n"
     ]
    }
   ],
   "source": [
    "print(X_train.shape)\n",
    "print(val_train.shape)"
   ]
  },
  {
   "cell_type": "code",
   "execution_count": 13,
   "metadata": {
    "collapsed": true
   },
   "outputs": [],
   "source": [
    "_y_train =y_train\n",
    "y_train = _y_train[0:41900,:]\n",
    "val_y_train =_y_train[41900:42001,:]"
   ]
  },
  {
   "cell_type": "code",
   "execution_count": 20,
   "metadata": {
    "collapsed": false
   },
   "outputs": [
    {
     "name": "stdout",
     "output_type": "stream",
     "text": [
      "(41900, 10)\n",
      "(100, 10)\n"
     ]
    }
   ],
   "source": [
    "print(y_train.shape)\n",
    "print(val_y_train.shape)"
   ]
  },
  {
   "cell_type": "code",
   "execution_count": 21,
   "metadata": {
    "collapsed": true
   },
   "outputs": [],
   "source": [
    "## norm_input"
   ]
  },
  {
   "cell_type": "code",
   "execution_count": 14,
   "metadata": {
    "collapsed": true
   },
   "outputs": [],
   "source": [
    "mean_px = X_train.mean().astype(np.float32)\n",
    "std_px = X_train.std().astype(np.float32)"
   ]
  },
  {
   "cell_type": "code",
   "execution_count": 15,
   "metadata": {
    "collapsed": true
   },
   "outputs": [],
   "source": [
    "def norm_input(x): return (x-mean_px)/std_px"
   ]
  },
  {
   "cell_type": "code",
   "execution_count": 24,
   "metadata": {
    "collapsed": true
   },
   "outputs": [],
   "source": [
    "## dense model"
   ]
  },
  {
   "cell_type": "code",
   "execution_count": 25,
   "metadata": {
    "collapsed": true
   },
   "outputs": [],
   "source": [
    "def get_fc_model():\n",
    "    model = Sequential([\n",
    "        Lambda(norm_input, input_shape=(1,28,28)),\n",
    "        Flatten(),\n",
    "        Dense(512, activation='softmax'),\n",
    "        Dense(10, activation='softmax')\n",
    "        ])\n",
    "    model.compile(Adam(), loss='categorical_crossentropy', metrics=['accuracy'])\n",
    "    return model"
   ]
  },
  {
   "cell_type": "code",
   "execution_count": 26,
   "metadata": {
    "collapsed": true
   },
   "outputs": [],
   "source": [
    "#fc = get_fc_model()"
   ]
  },
  {
   "cell_type": "code",
   "execution_count": 27,
   "metadata": {
    "collapsed": false
   },
   "outputs": [],
   "source": [
    "#fc.fit(X_train, y_train,validation_data=(val_train, val_y_train),nb_epoch=200, batch_size=64)"
   ]
  },
  {
   "cell_type": "code",
   "execution_count": 28,
   "metadata": {
    "collapsed": true
   },
   "outputs": [],
   "source": [
    "## Batchnorm + VGG MODEL"
   ]
  },
  {
   "cell_type": "code",
   "execution_count": 22,
   "metadata": {
    "collapsed": true
   },
   "outputs": [],
   "source": [
    "def get_model_bn():\n",
    "    model = Sequential([\n",
    "        Lambda(norm_input, input_shape=(1,28,28)),\n",
    "        Convolution2D(32,3,3, activation='relu'),\n",
    "        BatchNormalization(axis=1),\n",
    "        Convolution2D(32,3,3, activation='relu'),\n",
    "        MaxPooling2D(),\n",
    "        BatchNormalization(axis=1),\n",
    "        Convolution2D(64,3,3, activation='relu'),\n",
    "        BatchNormalization(axis=1),\n",
    "        Convolution2D(64,3,3, activation='relu'),\n",
    "        MaxPooling2D(),\n",
    "        BatchNormalization(axis=1),\n",
    "        Convolution2D(128,3,3, activation='relu'),\n",
    "        MaxPooling2D(),\n",
    "        Flatten(),\n",
    "        BatchNormalization(),\n",
    "        Dense(512, activation='relu'),\n",
    "        BatchNormalization(),\n",
    "        Dropout(0.5),\n",
    "        Dense(1024, activation='relu'),\n",
    "        BatchNormalization(),\n",
    "        Dropout(0.5),\n",
    "        Dense(10, activation='softmax')\n",
    "        ])\n",
    "    model.compile(Adam(), loss='categorical_crossentropy', metrics=['accuracy'])\n",
    "    return model"
   ]
  },
  {
   "cell_type": "code",
   "execution_count": 23,
   "metadata": {
    "collapsed": false
   },
   "outputs": [],
   "source": [
    "model = get_model_bn()"
   ]
  },
  {
   "cell_type": "code",
   "execution_count": 28,
   "metadata": {
    "collapsed": true
   },
   "outputs": [],
   "source": [
    "model.optimizer.lr= 1e-6"
   ]
  },
  {
   "cell_type": "code",
   "execution_count": 31,
   "metadata": {
    "collapsed": false
   },
   "outputs": [
    {
     "name": "stdout",
     "output_type": "stream",
     "text": [
      "Train on 41900 samples, validate on 100 samples\n",
      "Epoch 1/3\n",
      "41900/41900 [==============================] - 31s - loss: 0.0177 - acc: 0.9946 - val_loss: 0.0014 - val_acc: 1.0000\n",
      "Epoch 2/3\n",
      "41900/41900 [==============================] - 31s - loss: 0.0169 - acc: 0.9952 - val_loss: 0.0021 - val_acc: 1.0000\n",
      "Epoch 3/3\n",
      "41900/41900 [==============================] - 31s - loss: 0.0178 - acc: 0.9951 - val_loss: 4.5226e-05 - val_acc: 1.0000\n"
     ]
    },
    {
     "data": {
      "text/plain": [
       "<keras.callbacks.History at 0x7fbdddda8dd0>"
      ]
     },
     "execution_count": 31,
     "metadata": {},
     "output_type": "execute_result"
    }
   ],
   "source": [
    "model.fit(X_train, y_train,validation_data=(val_train, val_y_train),nb_epoch=3, batch_size=64)"
   ]
  },
  {
   "cell_type": "code",
   "execution_count": 32,
   "metadata": {
    "collapsed": false
   },
   "outputs": [
    {
     "name": "stdout",
     "output_type": "stream",
     "text": [
      "Train on 41900 samples, validate on 100 samples\n",
      "Epoch 1/3\n",
      "41900/41900 [==============================] - 31s - loss: 0.0126 - acc: 0.9961 - val_loss: 4.0690e-05 - val_acc: 1.0000\n",
      "Epoch 2/3\n",
      "41900/41900 [==============================] - 31s - loss: 0.0128 - acc: 0.9966 - val_loss: 9.8018e-05 - val_acc: 1.0000\n",
      "Epoch 3/3\n",
      "41900/41900 [==============================] - 31s - loss: 0.0138 - acc: 0.9965 - val_loss: 2.7444e-04 - val_acc: 1.0000\n"
     ]
    },
    {
     "data": {
      "text/plain": [
       "<keras.callbacks.History at 0x7fbdfb3d3b90>"
      ]
     },
     "execution_count": 32,
     "metadata": {},
     "output_type": "execute_result"
    }
   ],
   "source": [
    "model.fit(X_train, y_train,validation_data=(val_train, val_y_train),nb_epoch=3, batch_size=64)"
   ]
  },
  {
   "cell_type": "code",
   "execution_count": 33,
   "metadata": {
    "collapsed": false
   },
   "outputs": [
    {
     "name": "stdout",
     "output_type": "stream",
     "text": [
      "Train on 41900 samples, validate on 100 samples\n",
      "Epoch 1/3\n",
      "41900/41900 [==============================] - 31s - loss: 0.0121 - acc: 0.9963 - val_loss: 0.0037 - val_acc: 1.0000\n",
      "Epoch 2/3\n",
      "41900/41900 [==============================] - 31s - loss: 0.0120 - acc: 0.9967 - val_loss: 0.0699 - val_acc: 0.9800\n",
      "Epoch 3/3\n",
      "41900/41900 [==============================] - 31s - loss: 0.0099 - acc: 0.9969 - val_loss: 0.0013 - val_acc: 1.0000\n"
     ]
    },
    {
     "data": {
      "text/plain": [
       "<keras.callbacks.History at 0x7fbdfb4c9350>"
      ]
     },
     "execution_count": 33,
     "metadata": {},
     "output_type": "execute_result"
    }
   ],
   "source": [
    "model.fit(X_train, y_train,validation_data=(val_train, val_y_train),nb_epoch=3, batch_size=64)"
   ]
  },
  {
   "cell_type": "code",
   "execution_count": 34,
   "metadata": {
    "collapsed": false
   },
   "outputs": [
    {
     "name": "stdout",
     "output_type": "stream",
     "text": [
      "Train on 41900 samples, validate on 100 samples\n",
      "Epoch 1/3\n",
      "41900/41900 [==============================] - 31s - loss: 0.0108 - acc: 0.9969 - val_loss: 0.0164 - val_acc: 0.9900\n",
      "Epoch 2/3\n",
      "41900/41900 [==============================] - 31s - loss: 0.0118 - acc: 0.9964 - val_loss: 7.3906e-05 - val_acc: 1.0000\n",
      "Epoch 3/3\n",
      "41900/41900 [==============================] - 31s - loss: 0.0103 - acc: 0.9970 - val_loss: 0.0011 - val_acc: 1.0000\n"
     ]
    },
    {
     "data": {
      "text/plain": [
       "<keras.callbacks.History at 0x7fbdfb403b10>"
      ]
     },
     "execution_count": 34,
     "metadata": {},
     "output_type": "execute_result"
    }
   ],
   "source": [
    "model.fit(X_train, y_train,validation_data=(val_train, val_y_train),nb_epoch=3, batch_size=64)"
   ]
  },
  {
   "cell_type": "code",
   "execution_count": 36,
   "metadata": {
    "collapsed": false
   },
   "outputs": [
    {
     "name": "stdout",
     "output_type": "stream",
     "text": [
      "Train on 41900 samples, validate on 100 samples\n",
      "Epoch 1/10\n",
      "41900/41900 [==============================] - 31s - loss: 0.0117 - acc: 0.9969 - val_loss: 9.4988e-06 - val_acc: 1.0000\n",
      "Epoch 2/10\n",
      "41900/41900 [==============================] - 31s - loss: 0.0087 - acc: 0.9974 - val_loss: 0.0281 - val_acc: 0.9900\n",
      "Epoch 3/10\n",
      "41900/41900 [==============================] - 31s - loss: 0.0098 - acc: 0.9972 - val_loss: 0.0953 - val_acc: 0.9900\n",
      "Epoch 4/10\n",
      "41900/41900 [==============================] - 31s - loss: 0.0074 - acc: 0.9979 - val_loss: 0.0150 - val_acc: 0.9900\n",
      "Epoch 5/10\n",
      "41900/41900 [==============================] - 31s - loss: 0.0065 - acc: 0.9985 - val_loss: 0.0525 - val_acc: 0.9900\n",
      "Epoch 6/10\n",
      "41900/41900 [==============================] - 32s - loss: 0.0066 - acc: 0.9981 - val_loss: 0.0484 - val_acc: 0.9900\n",
      "Epoch 7/10\n",
      "41900/41900 [==============================] - 31s - loss: 0.0103 - acc: 0.9972 - val_loss: 0.0043 - val_acc: 1.0000\n",
      "Epoch 8/10\n",
      "41900/41900 [==============================] - 31s - loss: 0.0067 - acc: 0.9980 - val_loss: 1.6015e-04 - val_acc: 1.0000\n",
      "Epoch 9/10\n",
      "41900/41900 [==============================] - 31s - loss: 0.0061 - acc: 0.9982 - val_loss: 9.5578e-06 - val_acc: 1.0000\n",
      "Epoch 10/10\n",
      "41900/41900 [==============================] - 31s - loss: 0.0067 - acc: 0.9982 - val_loss: 8.8316e-06 - val_acc: 1.0000\n"
     ]
    },
    {
     "data": {
      "text/plain": [
       "<keras.callbacks.History at 0x7fbe00129690>"
      ]
     },
     "execution_count": 36,
     "metadata": {},
     "output_type": "execute_result"
    }
   ],
   "source": [
    "model.fit(X_train, y_train,validation_data=(val_train, val_y_train),nb_epoch=10, batch_size=64)"
   ]
  },
  {
   "cell_type": "code",
   "execution_count": 37,
   "metadata": {
    "collapsed": true
   },
   "outputs": [],
   "source": [
    "model.optimizer.lr= 1e-7"
   ]
  },
  {
   "cell_type": "code",
   "execution_count": 38,
   "metadata": {
    "collapsed": false
   },
   "outputs": [
    {
     "name": "stdout",
     "output_type": "stream",
     "text": [
      "Train on 41900 samples, validate on 100 samples\n",
      "Epoch 1/10\n",
      "41900/41900 [==============================] - 32s - loss: 0.0080 - acc: 0.9978 - val_loss: 1.4933e-05 - val_acc: 1.0000\n",
      "Epoch 2/10\n",
      "41900/41900 [==============================] - 32s - loss: 0.0049 - acc: 0.9987 - val_loss: 0.0088 - val_acc: 0.9900\n",
      "Epoch 3/10\n",
      "41900/41900 [==============================] - 31s - loss: 0.0053 - acc: 0.9985 - val_loss: 1.7929e-05 - val_acc: 1.0000\n",
      "Epoch 4/10\n",
      "41900/41900 [==============================] - 31s - loss: 0.0068 - acc: 0.9981 - val_loss: 5.5283e-05 - val_acc: 1.0000\n",
      "Epoch 5/10\n",
      "41900/41900 [==============================] - 32s - loss: 0.0041 - acc: 0.9987 - val_loss: 4.6513e-06 - val_acc: 1.0000\n",
      "Epoch 6/10\n",
      "41900/41900 [==============================] - 32s - loss: 0.0068 - acc: 0.9981 - val_loss: 8.9367e-05 - val_acc: 1.0000\n",
      "Epoch 7/10\n",
      "41900/41900 [==============================] - 31s - loss: 0.0064 - acc: 0.9984 - val_loss: 1.5020e-07 - val_acc: 1.0000\n",
      "Epoch 8/10\n",
      "41900/41900 [==============================] - 31s - loss: 0.0056 - acc: 0.9984 - val_loss: 5.0737e-04 - val_acc: 1.0000\n",
      "Epoch 9/10\n",
      "41900/41900 [==============================] - 31s - loss: 0.0072 - acc: 0.9982 - val_loss: 2.4378e-07 - val_acc: 1.0000\n",
      "Epoch 10/10\n",
      "41900/41900 [==============================] - 32s - loss: 0.0063 - acc: 0.9982 - val_loss: 1.2713e-05 - val_acc: 1.0000\n"
     ]
    },
    {
     "data": {
      "text/plain": [
       "<keras.callbacks.History at 0x7fbdfb3b5c50>"
      ]
     },
     "execution_count": 38,
     "metadata": {},
     "output_type": "execute_result"
    }
   ],
   "source": [
    "model.fit(X_train, y_train,validation_data=(val_train, val_y_train),nb_epoch=10, batch_size=64)"
   ]
  },
  {
   "cell_type": "code",
   "execution_count": 39,
   "metadata": {
    "collapsed": true
   },
   "outputs": [],
   "source": [
    "model.save_weights(\"model.h5\")"
   ]
  },
  {
   "cell_type": "code",
   "execution_count": 40,
   "metadata": {
    "collapsed": false
   },
   "outputs": [],
   "source": [
    "_testData = pd.read_csv(path+'test.csv').values\n",
    "testData = reshapeTrainData(_testData)\n",
    "testData =np.expand_dims(testData,1)\n",
    "preds = model.predict(testData)\n",
    "class_labels = np.argmax(preds, axis=1) \n",
    "idx = np.arange(class_labels.shape[0]+1)[1:class_labels.shape[0]+1]\n",
    "subm = np.stack([idx,class_labels], axis=1)\n",
    "submission_file_name = 'submission5.csv'\n",
    "np.savetxt(submission_file_name, subm, fmt='%d,%d', header='ImageId,Label', comments='')"
   ]
  }
 ],
 "metadata": {
  "anaconda-cloud": {},
  "kernelspec": {
   "display_name": "Python [default]",
   "language": "python",
   "name": "python2"
  },
  "language_info": {
   "codemirror_mode": {
    "name": "ipython",
    "version": 2
   },
   "file_extension": ".py",
   "mimetype": "text/x-python",
   "name": "python",
   "nbconvert_exporter": "python",
   "pygments_lexer": "ipython2",
   "version": "2.7.12"
  }
 },
 "nbformat": 4,
 "nbformat_minor": 1
}
